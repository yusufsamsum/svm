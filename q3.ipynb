{
 "cells": [
  {
   "cell_type": "code",
   "execution_count": 179,
   "metadata": {},
   "outputs": [],
   "source": [
    "import numpy as np\n",
    "import pandas as pd\n",
    "import matplotlib.pyplot as plt\n",
    "import math\n",
    "from sklearn import svm\n",
    "from sklearn.multiclass import OneVsRestClassifier\n",
    "import warnings\n",
    "warnings.filterwarnings(\"ignore\")\n",
    "import operator"
   ]
  },
  {
   "cell_type": "code",
   "execution_count": 180,
   "metadata": {},
   "outputs": [],
   "source": [
    "## load dataset\n",
    "train_features_df = pd.read_csv(\"../datasets/question3/q3_train_features.csv\", header = None)\n",
    "train_binary_df = pd.read_csv(\"../datasets/question3/q3_train_binary_labels.csv\", header = None)\n",
    "train_multiclass_df = pd.read_csv(\"../datasets/question3/q3_train_multiclass_labels.csv\", header = None)\n",
    "\n",
    "test_features_df = pd.read_csv(\"../datasets/question3/q3_test_features.csv\", header = None)\n",
    "test_binary_df = pd.read_csv(\"../datasets/question3/q3_test_binary_labels.csv\", header = None)\n",
    "test_multiclass_df = pd.read_csv(\"../datasets/question3/q3_test_multiclass_labels.csv\", header = None)\n",
    "\n",
    "train_f = train_features_df.values\n",
    "train_f = train_f[: , 1:]\n",
    "train_m = train_multiclass_df.values\n",
    "train_m = np.transpose(train_m)[1]\n",
    "train_b = train_binary_df.values\n",
    "train_b = np.transpose(train_b)[1]\n",
    "\n",
    "test_f = test_features_df.values\n",
    "test_f = test_f[: , 1:]\n",
    "test_m = test_multiclass_df.values\n",
    "test_m = np.transpose(test_m)[1]\n",
    "test_b = test_binary_df.values\n",
    "test_b = np.transpose(test_b)[1]"
   ]
  },
  {
   "cell_type": "code",
   "execution_count": 181,
   "metadata": {},
   "outputs": [],
   "source": [
    "### 5 folds ####\n",
    "X1 = train_f[0:56,    0:]\n",
    "X2 = train_f[56:112,  0:]\n",
    "X3 = train_f[112:168, 0:]\n",
    "X4 = train_f[168:224, 0:]\n",
    "X5 = train_f[224:280, 0:]\n",
    "\n",
    "Y1 = train_b[0:56]\n",
    "Y2 = train_b[56:112]\n",
    "Y3 = train_b[112:168]\n",
    "Y4 = train_b[168:224]\n",
    "Y5 = train_b[224:280]\n",
    "\n",
    "train_x_test_folds = [X1, X2, X3, X4, X5]\n",
    "train_y_test_folds = [Y1, Y2, Y3, Y4, Y5]\n",
    "\n",
    "train_x_folds = []\n",
    "train_x_folds.append(np.concatenate((X2, X3, X4, X5)))\n",
    "train_x_folds.append(np.concatenate((X1, X3, X4, X5)))\n",
    "train_x_folds.append(np.concatenate((X1, X2, X4, X5)))\n",
    "train_x_folds.append(np.concatenate((X1, X2, X3, X5)))\n",
    "train_x_folds.append(np.concatenate((X1, X2, X3, X4)))\n",
    "\n",
    "\n",
    "train_y_folds = []\n",
    "train_y_folds.append(np.concatenate((Y2, Y3, Y4, Y5)))\n",
    "train_y_folds.append(np.concatenate((Y1, Y3, Y4, Y5)))\n",
    "train_y_folds.append(np.concatenate((Y1, Y2, Y4, Y5)))\n",
    "train_y_folds.append(np.concatenate((Y1, Y2, Y3, Y5)))\n",
    "train_y_folds.append(np.concatenate((Y1, Y2, Y3, Y4)))\n",
    "\n",
    "train_x_folds = np.array(train_x_folds)\n",
    "train_y_folds = np.array(train_y_folds)\n"
   ]
  },
  {
   "cell_type": "code",
   "execution_count": 182,
   "metadata": {},
   "outputs": [],
   "source": [
    "def calc_accuracy(actual_values, predictions):\n",
    "    correct = 0\n",
    "    for pred, act in zip(predictions, actual_values):\n",
    "        #print(\"pred:\" , pred, \" act: \" , act)\n",
    "        if pred == act:\n",
    "            correct += 1\n",
    "    return (correct/float(len(actual_values))*100)"
   ]
  },
  {
   "cell_type": "code",
   "execution_count": 183,
   "metadata": {},
   "outputs": [],
   "source": [
    "C = [0.001, 0.01, 0.1, 1, 10, 100]"
   ]
  },
  {
   "cell_type": "code",
   "execution_count": 184,
   "metadata": {},
   "outputs": [
    {
     "data": {
      "text/plain": [
       "[(0.001, 82.50000000000001),\n",
       " (0.01, 82.50000000000001),\n",
       " (0.1, 81.07142857142858),\n",
       " (1, 79.64285714285715),\n",
       " (10, 77.14285714285714),\n",
       " (100, 58.92857142857142)]"
      ]
     },
     "execution_count": 184,
     "metadata": {},
     "output_type": "execute_result"
    }
   ],
   "source": [
    "c_values = []\n",
    "for c in C:\n",
    "    classifier = svm.LinearSVC(C = c, random_state = 0)\n",
    "    accuracies = []\n",
    "    for i in range(5):\n",
    "        classifier.fit(train_x_folds[i], train_y_folds[i])\n",
    "        predictions = classifier.predict(train_x_test_folds[i])\n",
    "        accuracies.append( calc_accuracy(train_y_test_folds[i], predictions))\n",
    "    c_values.append((c, (sum(accuracies) / len(accuracies)) ))\n",
    "c_values"
   ]
  },
  {
   "cell_type": "code",
   "execution_count": 185,
   "metadata": {},
   "outputs": [],
   "source": [
    "c_val = []\n",
    "mean_acc = []\n",
    "for i in range(len(c_values)):\n",
    "    c_val.append(str(c_values[i][0]))\n",
    "    mean_acc.append(c_values[i][1])"
   ]
  },
  {
   "cell_type": "code",
   "execution_count": 186,
   "metadata": {},
   "outputs": [
    {
     "data": {
      "text/plain": [
       "<BarContainer object of 6 artists>"
      ]
     },
     "execution_count": 186,
     "metadata": {},
     "output_type": "execute_result"
    },
    {
     "data": {
      "image/png": "[encoded data removed]",
      "text/plain": [
       "<Figure size 864x864 with 1 Axes>"
      ]
     },
     "metadata": {
      "needs_background": "light"
     },
     "output_type": "display_data"
    }
   ],
   "source": [
    "fig = plt.figure(figsize=(12,12))\n",
    "plt.bar(c_val, mean_acc)"
   ]
  },
  {
   "cell_type": "code",
   "execution_count": 187,
   "metadata": {},
   "outputs": [
    {
     "data": {
      "text/plain": [
       "0.001"
      ]
     },
     "execution_count": 187,
     "metadata": {},
     "output_type": "execute_result"
    }
   ],
   "source": [
    "optimal_c_val = max(c_values, key = operator.itemgetter(1))[0]\n",
    "optimal_c_val"
   ]
  },
  {
   "cell_type": "code",
   "execution_count": 188,
   "metadata": {},
   "outputs": [],
   "source": [
    "classifier = svm.LinearSVC(C = optimal_c_val, random_state = 0)\n",
    "classifier.fit(train_f, train_b)\n",
    "linear_predictions = classifier.predict(test_f)"
   ]
  },
  {
   "cell_type": "code",
   "execution_count": 189,
   "metadata": {},
   "outputs": [
    {
     "data": {
      "text/plain": [
       "82.6086956521739"
      ]
     },
     "execution_count": 189,
     "metadata": {},
     "output_type": "execute_result"
    }
   ],
   "source": [
    "acc = calc_accuracy( test_b, np.array(linear_predictions))\n",
    "acc"
   ]
  },
  {
   "cell_type": "code",
   "execution_count": 190,
   "metadata": {},
   "outputs": [],
   "source": [
    "G = [1/16, 1/8, 1/4, 1/2, 1, 2]"
   ]
  },
  {
   "cell_type": "code",
   "execution_count": 191,
   "metadata": {},
   "outputs": [
    {
     "data": {
      "text/plain": [
       "[(0.0625, 70.71428571428571),\n",
       " (0.125, 74.64285714285714),\n",
       " (0.25, 76.60714285714285),\n",
       " (0.5, 77.78571428571426),\n",
       " (1, 78.57142857142857),\n",
       " (2, 79.1326530612245)]"
      ]
     },
     "execution_count": 191,
     "metadata": {},
     "output_type": "execute_result"
    }
   ],
   "source": [
    "g_values = []\n",
    "for g in G:\n",
    "    classifier = svm.SVC( C = optimal_c_val, gamma = g, kernel = 'rbf')\n",
    "    for i in range(5):\n",
    "        classifier.fit(train_x_folds[i], train_y_folds[i])\n",
    "        predictions = classifier.predict(train_x_test_folds[i])\n",
    "        accuracies.append( calc_accuracy(train_y_test_folds[i], predictions))\n",
    "    g_values.append((g, (sum(accuracies) / len(accuracies)) ))\n",
    "g_values"
   ]
  },
  {
   "cell_type": "code",
   "execution_count": 192,
   "metadata": {},
   "outputs": [],
   "source": [
    "g_val = []\n",
    "mean_acc = []\n",
    "for i in range(len(g_values)):\n",
    "    g_val.append(str(g_values[i][0]))\n",
    "    mean_acc.append(g_values[i][1])"
   ]
  },
  {
   "cell_type": "code",
   "execution_count": 193,
   "metadata": {},
   "outputs": [
    {
     "data": {
      "text/plain": [
       "<BarContainer object of 6 artists>"
      ]
     },
     "execution_count": 193,
     "metadata": {},
     "output_type": "execute_result"
    },
    {
     "data": {
      "image/png": "[encoded data removed]",
      "text/plain": [
       "<Figure size 864x864 with 1 Axes>"
      ]
     },
     "metadata": {
      "needs_background": "light"
     },
     "output_type": "display_data"
    }
   ],
   "source": [
    "fig = plt.figure(figsize=(12,12))\n",
    "plt.bar(g_val, mean_acc)"
   ]
  },
  {
   "cell_type": "code",
   "execution_count": 194,
   "metadata": {},
   "outputs": [
    {
     "data": {
      "text/plain": [
       "2"
      ]
     },
     "execution_count": 194,
     "metadata": {},
     "output_type": "execute_result"
    }
   ],
   "source": [
    "optimal_g_val = max(g_values, key = operator.itemgetter(1))[0]\n",
    "optimal_g_val"
   ]
  },
  {
   "cell_type": "code",
   "execution_count": 195,
   "metadata": {},
   "outputs": [],
   "source": [
    "classifier = svm.SVC(C = optimal_c_val, gamma = optimal_g_val, kernel = 'rbf')\n",
    "x = classifier.fit(train_f, train_b)\n",
    "rbf_predictions = classifier.predict(test_f)"
   ]
  },
  {
   "cell_type": "code",
   "execution_count": 196,
   "metadata": {},
   "outputs": [],
   "source": [
    "acc = calc_accuracy( test_b, np.array(rbf_predictions))"
   ]
  },
  {
   "cell_type": "code",
   "execution_count": 197,
   "metadata": {},
   "outputs": [
    {
     "data": {
      "text/plain": [
       "82.6086956521739"
      ]
     },
     "execution_count": 197,
     "metadata": {},
     "output_type": "execute_result"
    }
   ],
   "source": [
    "acc"
   ]
  },
  {
   "cell_type": "code",
   "execution_count": 198,
   "metadata": {},
   "outputs": [],
   "source": [
    "multi_classifier = OneVsRestClassifier(svm.SVC(C = optimal_c_val, gamma = optimal_g_val, kernel = 'rbf')).fit(train_f, train_m)"
   ]
  },
  {
   "cell_type": "code",
   "execution_count": 199,
   "metadata": {},
   "outputs": [],
   "source": [
    "m_predictions = multi_classifier.predict(test_f)"
   ]
  },
  {
   "cell_type": "code",
   "execution_count": 200,
   "metadata": {},
   "outputs": [],
   "source": [
    "acc = calc_accuracy(test_m, np.array(m_predictions))"
   ]
  },
  {
   "cell_type": "code",
   "execution_count": 201,
   "metadata": {},
   "outputs": [
    {
     "data": {
      "text/plain": [
       "47.82608695652174"
      ]
     },
     "execution_count": 201,
     "metadata": {},
     "output_type": "execute_result"
    }
   ],
   "source": [
    "acc"
   ]
  },
  {
   "cell_type": "code",
   "execution_count": 202,
   "metadata": {},
   "outputs": [],
   "source": [
    "### performance metrics\n",
    "def get_performance_metrics(actual_values, predictions): ## for binary classification\n",
    "    tp = 0\n",
    "    fp = 0\n",
    "    fn = 0\n",
    "    tn = 0\n",
    "    precision = 0\n",
    "    recall = 0\n",
    "    fdr = 0\n",
    "    fpr = 0\n",
    "    npv = 0\n",
    "    for pred, act in zip(predictions, actual_values):\n",
    "        if pred == 1:\n",
    "            if act == 1.0:\n",
    "                tp += 1\n",
    "            else:\n",
    "                fp += 1\n",
    "        else:\n",
    "            if act == 1.0:\n",
    "                fn += 1\n",
    "            else:\n",
    "                tn += 1\n",
    "    if tp == 0 and fp == 0:\n",
    "        precision =  0\n",
    "        recall = 0\n",
    "        fdr = 0\n",
    "        fpr = 0\n",
    "    else:\n",
    "        precision = ( (tp/(tp + fp)) * 100 )\n",
    "        recall = ( (tp / (tp + fn) ) * 100 )\n",
    "        fdr = ( (fp / (tp + fp)) * 100 )\n",
    "        fpr = ( (fp / (fp + tn)) * 100 )\n",
    "    if tn == 0 and fn == 0:\n",
    "        npv = 0\n",
    "    else:\n",
    "        npv = ( (tn / (tn + fn)) * 100)\n",
    "    return (fp, tp, fn, tn, precision, recall, fdr, fpr, npv)\n",
    "\n",
    "def get_f_scores( beta, precision, recall ):\n",
    "    return ( (1 + np.power(beta, 2)) * precision * recall) / ((np.power(beta,2) * precision) + recall)\n",
    "         \n",
    "def get_confusion_matrix_multi(predictions, actual_values):\n",
    "    cm = np.zeros((3,3))\n",
    "    for pred, act in zip(predictions, actual_values):\n",
    "        if act == 0:\n",
    "            if pred == 0:\n",
    "                cm[0][0] += 1\n",
    "            elif pred == 1:\n",
    "                cm[0][1] += 1\n",
    "            elif pred == 2:\n",
    "                cm[0][2] += 1\n",
    "        elif act == 1:\n",
    "            if pred == 0:\n",
    "                cm[1][0] += 1\n",
    "            elif pred == 1:\n",
    "                cm[1][1] += 1\n",
    "            elif pred == 2:\n",
    "                cm[1][2] += 1\n",
    "        elif act == 2:\n",
    "            if pred == 0:\n",
    "                cm[2][0] += 1\n",
    "            elif pred == 1:\n",
    "                cm[2][1] += 1\n",
    "            elif pred == 2:\n",
    "                cm[2][2] += 1\n",
    "    return cm\n",
    "\n",
    "def get_tp(cm, class_type):\n",
    "    print(\"True Positive For Class\", str(class_type), \" : \", (cm[class_type][class_type]))\n",
    "    return cm[class_type][class_type]\n",
    "\n",
    "def get_tn(cm, class_type):\n",
    "    total = np.sum(cm)\n",
    "    col_row = 0\n",
    "    for i in range(cm.shape[0]):\n",
    "        for j in range(cm.shape[1]):\n",
    "            if i == class_type or j == class_type:\n",
    "                col_row += cm[i][j]\n",
    "    \n",
    "    print(\"True Negative For Class\", str(class_type), \" : \", (total - col_row))\n",
    "    return total - col_row\n",
    "\n",
    "def get_fp(cm, class_type):\n",
    "    fp = 0\n",
    "    for i in range(cm.shape[0]):\n",
    "        for j in range(cm.shape[1]):\n",
    "            if i != class_type and j == class_type:\n",
    "                fp += cm[i][j]\n",
    "    print(\"False Positive For Class\", str(class_type), \" : \", fp)\n",
    "    return fp\n",
    "\n",
    "def get_fn(cm, class_type):\n",
    "    fn = 0\n",
    "    for i in range(cm.shape[0]):\n",
    "        for j in range(cm.shape[1]):\n",
    "            if i == class_type and j != class_type:\n",
    "                fn += cm[i][j]\n",
    "    print(\"False Negative For Class\", str(class_type), \" : \", fn)\n",
    "    return fn\n",
    "\n",
    "\n",
    "def get_precision(tp, fp):\n",
    "    return tp / (tp + fp)\n",
    "\n",
    "def get_recall(tp, fn):\n",
    "    return tp / (tp + fn)\n",
    "\n",
    "def get_npv(tn, fn):\n",
    "    return tn / (tn + fn)\n",
    "\n",
    "def get_fpr(fp, tn):\n",
    "    return fp / (fp + tn)\n",
    "\n",
    "def get_fdr(tp, fp):\n",
    "    return fp / ( fp + tp)\n",
    "    \n",
    "\n",
    "def micro_performance_metrics(all_tp, all_fp, all_tn, all_fn):\n",
    "    precision = sum(all_tp)/(sum(all_tp) + sum(all_fp))\n",
    "    recall = sum(all_tp)/ (sum(all_tp) + sum(all_fn))\n",
    "    npv = sum(all_tn) / (sum(all_tn) + sum(all_fn))\n",
    "    fpr = sum(all_fp) / (sum(all_fp) + sum(all_tn))\n",
    "    fdr = sum(all_fp) / (sum(all_tp) + sum(all_fp))\n",
    "    return (precision, recall, npv, fpr, fdr)\n",
    "\n",
    "def macro_performance_metrics(all_precision, all_recall, all_npv, all_fpr, all_fdr):\n",
    "    k = len(all_precision) # k is common for every value\n",
    "    precision = sum(all_precision) / k\n",
    "    recall = sum(all_recall) / k\n",
    "    npv = sum(all_npv)  / k\n",
    "    fpr = sum(all_fpr)  / k    \n",
    "    fdr = sum(all_fdr)  / k    \n",
    "    return (precision, recall, npv, fpr, fdr)\n",
    "\n",
    "def print_values(precision, recall, npv, fpr, fdr, macro):\n",
    "    if macro:\n",
    "        print(\"Macro values: \")\n",
    "    else:\n",
    "        print(\"Micro values: \") \n",
    "    print(\"precision: \", precision)\n",
    "    print(\"recall: \", recall)    \n",
    "    print(\"Negative Predicted Value: \", npv)    \n",
    "    print(\"False Positive Rate: \", fpr)    \n",
    "    print( \"False Discovery Rate: \", fdr )"
   ]
  },
  {
   "cell_type": "code",
   "execution_count": 203,
   "metadata": {},
   "outputs": [],
   "source": [
    "def print_performance_metrics(cm, all_precision, all_recall, all_npv, all_fpr, all_fdr):\n",
    "    print(\"Confusion Matrix(Column Predictions, Rows Real Values) \")\n",
    "    print(cm)\n",
    "    for i in range(len(all_precision)):\n",
    "        print(\"precision for class\", str(i),  \" : \", all_precision[i])\n",
    "        print(\"recall for class\", str(i),  \" : \", all_recall[i])    \n",
    "        print(\"Negative Predicted Value for class\", str(i),  \" : \", all_npv[i])    \n",
    "        print(\"False Positive Rate for class\", str(i),  \" : \", all_fpr[i])    \n",
    "        print( \"False Discovery Rate for class\", str(i),  \" : \", all_fdr[i])\n",
    "        \n",
    "def print_performance_metrics_binary(fp, tp, fn, tn, precision, recall, fdr, fpr, npv, f1, f2):\n",
    "    print(\"Precision: \", precision)\n",
    "    print(\"Recall: \", recall)\n",
    "    print(\"False Positive Rate: \", fpr)\n",
    "    print(\"False Discovery Rate: \", fdr)\n",
    "    print(\"Negative Predictive Value: \", npv)\n",
    "    print( \"F1: \", f1 )\n",
    "    print( \"F2: \", f2 )    "
   ]
  },
  {
   "cell_type": "code",
   "execution_count": 204,
   "metadata": {},
   "outputs": [],
   "source": [
    "cm_multi = get_confusion_matrix_multi(m_predictions, test_m)"
   ]
  },
  {
   "cell_type": "code",
   "execution_count": 205,
   "metadata": {},
   "outputs": [
    {
     "name": "stdout",
     "output_type": "stream",
     "text": [
      "True Positive For Class 0  :  52.0\n",
      "False Positive For Class 0  :  47.0\n",
      "False Negative For Class 0  :  11.0\n",
      "True Negative For Class 0  :  5.0\n",
      "True Positive For Class 1  :  3.0\n",
      "False Positive For Class 1  :  8.0\n",
      "False Negative For Class 1  :  29.0\n",
      "True Negative For Class 1  :  75.0\n",
      "True Positive For Class 2  :  0.0\n",
      "False Positive For Class 2  :  5.0\n",
      "False Negative For Class 2  :  20.0\n",
      "True Negative For Class 2  :  90.0\n"
     ]
    }
   ],
   "source": [
    "tp0 = get_tp(cm_multi, 0)\n",
    "fp0 = get_fp(cm_multi, 0)\n",
    "fn0 = get_fn(cm_multi, 0)\n",
    "tn0 = get_tn(cm_multi, 0)\n",
    "\n",
    "tp1 = get_tp(cm_multi, 1)\n",
    "fp1 = get_fp(cm_multi, 1)\n",
    "fn1 = get_fn(cm_multi, 1)\n",
    "tn1 = get_tn(cm_multi, 1)\n",
    "\n",
    "tp2 = get_tp(cm_multi, 2)\n",
    "fp2 = get_fp(cm_multi, 2)\n",
    "fn2 = get_fn(cm_multi, 2)\n",
    "tn2 = get_tn(cm_multi, 2)"
   ]
  },
  {
   "cell_type": "code",
   "execution_count": 206,
   "metadata": {},
   "outputs": [],
   "source": [
    "precision0 = get_precision(tp0, fp0)\n",
    "recall0 = get_recall(tp0, fn0)\n",
    "npv0 = get_npv(tn0, fn0)\n",
    "fpr0 = get_fpr(fp0, tn0)\n",
    "fdr0 = get_fdr(tp0, fp0)\n",
    "\n",
    "precision1 = get_precision(tp1, fp1)\n",
    "recall1 = get_recall(tp1, fn1)\n",
    "npv1 = get_npv(tn1, fn1)\n",
    "fpr1 = get_fpr(fp1, tn1)\n",
    "fdr1 = get_fdr(tp1, fp1)\n",
    "\n",
    "precision2 = get_precision(tp2, fp2)\n",
    "recall2 = get_recall(tp2, fn2)\n",
    "npv2 = get_npv(tn2, fn2)\n",
    "fpr2 = get_fpr(fp2, tn2)\n",
    "fdr2 = get_fdr(tp2, fp2)"
   ]
  },
  {
   "cell_type": "code",
   "execution_count": 207,
   "metadata": {},
   "outputs": [],
   "source": [
    "all_tp = [tp0, tp1, tp2]\n",
    "all_fp = [fp0, fp1, fp2]\n",
    "all_fn = [fn0, fn1, fn2]\n",
    "all_tn = [tn0, tn1, tn2]\n",
    "\n",
    "all_precision = [precision0, precision1, precision2]\n",
    "all_recall = [recall0, recall1, recall2]\n",
    "all_npv = [npv0, npv1, npv2]\n",
    "all_fpr = [fpr0, fpr1, fpr2]\n",
    "all_fdr = [fdr0, fdr1, fdr2]"
   ]
  },
  {
   "cell_type": "code",
   "execution_count": 208,
   "metadata": {},
   "outputs": [
    {
     "name": "stdout",
     "output_type": "stream",
     "text": [
      "Confusion Matrix(Column Predictions, Rows Real Values) \n",
      "[[52.  7.  4.]\n",
      " [28.  3.  1.]\n",
      " [19.  1.  0.]]\n",
      "precision for class 0  :  0.5252525252525253\n",
      "recall for class 0  :  0.8253968253968254\n",
      "Negative Predicted Value for class 0  :  0.3125\n",
      "False Positive Rate for class 0  :  0.9038461538461539\n",
      "False Discovery Rate for class 0  :  0.47474747474747475\n",
      "precision for class 1  :  0.2727272727272727\n",
      "recall for class 1  :  0.09375\n",
      "Negative Predicted Value for class 1  :  0.7211538461538461\n",
      "False Positive Rate for class 1  :  0.0963855421686747\n",
      "False Discovery Rate for class 1  :  0.7272727272727273\n",
      "precision for class 2  :  0.0\n",
      "recall for class 2  :  0.0\n",
      "Negative Predicted Value for class 2  :  0.8181818181818182\n",
      "False Positive Rate for class 2  :  0.05263157894736842\n",
      "False Discovery Rate for class 2  :  1.0\n"
     ]
    }
   ],
   "source": [
    "print_performance_metrics(cm_multi, all_precision, all_recall, all_npv, all_fpr, all_fdr)"
   ]
  },
  {
   "cell_type": "code",
   "execution_count": 209,
   "metadata": {},
   "outputs": [],
   "source": [
    "(micro_precision, micro_recall, micro_npv, micro_fpr, micro_fdr) = micro_performance_metrics(all_tp, all_fp, all_tn, all_fn)"
   ]
  },
  {
   "cell_type": "code",
   "execution_count": 210,
   "metadata": {},
   "outputs": [
    {
     "name": "stdout",
     "output_type": "stream",
     "text": [
      "Micro values: \n",
      "precision:  0.4782608695652174\n",
      "recall:  0.4782608695652174\n",
      "Negative Predicted Value:  0.7391304347826086\n",
      "False Positive Rate:  0.2608695652173913\n",
      "False Discovery Rate:  0.5217391304347826\n"
     ]
    }
   ],
   "source": [
    "print_values(micro_precision, micro_recall, micro_npv, micro_fpr, micro_fdr, False)"
   ]
  },
  {
   "cell_type": "code",
   "execution_count": 211,
   "metadata": {},
   "outputs": [],
   "source": [
    "(macro_precision, macro_recall, macro_npv, macro_fpr, macro_fdr) = macro_performance_metrics(all_precision, all_recall, all_npv, all_fpr, all_fdr)"
   ]
  },
  {
   "cell_type": "code",
   "execution_count": 212,
   "metadata": {},
   "outputs": [
    {
     "name": "stdout",
     "output_type": "stream",
     "text": [
      "Macro values: \n",
      "precision:  0.265993265993266\n",
      "recall:  0.3063822751322751\n",
      "Negative Predicted Value:  0.6172785547785549\n",
      "False Positive Rate:  0.350954424987399\n",
      "False Discovery Rate:  0.734006734006734\n"
     ]
    }
   ],
   "source": [
    "print_values(macro_precision, macro_recall, macro_npv, macro_fpr, macro_fdr, True)"
   ]
  },
  {
   "cell_type": "code",
   "execution_count": 213,
   "metadata": {},
   "outputs": [],
   "source": [
    "################ BINARY LINEAR SVM ###################\n",
    "(fp, tp, fn, tn, precision, recall, fdr, fpr, npv) = get_performance_metrics(test_b, linear_predictions)"
   ]
  },
  {
   "cell_type": "code",
   "execution_count": 214,
   "metadata": {},
   "outputs": [],
   "source": [
    "f1 = get_f_scores(1, precision, recall)\n",
    "f2 = get_f_scores(2, precision, recall)"
   ]
  },
  {
   "cell_type": "code",
   "execution_count": 215,
   "metadata": {},
   "outputs": [
    {
     "name": "stdout",
     "output_type": "stream",
     "text": [
      "Performance Metrics for Linear SVM Binary Classification: \n",
      "Precision:  0\n",
      "Recall:  0\n",
      "False Positive Rate:  0\n",
      "False Discovery Rate:  0\n",
      "Negative Predictive Value:  82.6086956521739\n",
      "F1:  nan\n",
      "F2:  nan\n"
     ]
    }
   ],
   "source": [
    "print(\"Performance Metrics for Linear SVM Binary Classification: \")\n",
    "print_performance_metrics_binary(fp, tp, fn, tn, precision, recall, fdr, fpr, npv, f1, f2)"
   ]
  },
  {
   "cell_type": "code",
   "execution_count": 216,
   "metadata": {},
   "outputs": [],
   "source": [
    "################ BINARY RBF SVM ###################\n",
    "(fp, tp, fn, tn, precision, recall, fdr, fpr, npv) = get_performance_metrics(test_b, rbf_predictions)"
   ]
  },
  {
   "cell_type": "code",
   "execution_count": 217,
   "metadata": {},
   "outputs": [],
   "source": [
    "f1 = get_f_scores(1, precision, recall)\n",
    "f2 = get_f_scores(2, precision, recall)"
   ]
  },
  {
   "cell_type": "code",
   "execution_count": 218,
   "metadata": {},
   "outputs": [
    {
     "name": "stdout",
     "output_type": "stream",
     "text": [
      "Performance Metrics for RBF SVM Binary Classification: \n",
      "Precision:  0\n",
      "Recall:  0\n",
      "False Positive Rate:  0\n",
      "False Discovery Rate:  0\n",
      "Negative Predictive Value:  82.6086956521739\n",
      "F1:  nan\n",
      "F2:  nan\n"
     ]
    }
   ],
   "source": [
    "print(\"Performance Metrics for RBF SVM Binary Classification: \")\n",
    "print_performance_metrics_binary(fp, tp, fn, tn, precision, recall, fdr, fpr, npv, f1, f2)"
   ]
  },
  {
   "cell_type": "code",
   "execution_count": 219,
   "metadata": {},
   "outputs": [
    {
     "name": "stdout",
     "output_type": "stream",
     "text": [
      "# of 0s in binary train dataset: 231\n"
     ]
    }
   ],
   "source": [
    "print(\"# of 0s in binary train dataset:\", (train_b == 0).sum())"
   ]
  },
  {
   "cell_type": "code",
   "execution_count": 220,
   "metadata": {},
   "outputs": [
    {
     "name": "stdout",
     "output_type": "stream",
     "text": [
      "# of 1s in binary train dataset: 49\n"
     ]
    }
   ],
   "source": [
    "print(\"# of 1s in binary train dataset:\",(train_b == 1).sum())"
   ]
  },
  {
   "cell_type": "code",
   "execution_count": 221,
   "metadata": {},
   "outputs": [
    {
     "name": "stdout",
     "output_type": "stream",
     "text": [
      "# of 0s in binary multiclass dataset: 133\n"
     ]
    }
   ],
   "source": [
    "print(\"# of 0s in binary multiclass dataset:\", (train_m == 0).sum())"
   ]
  },
  {
   "cell_type": "code",
   "execution_count": 222,
   "metadata": {},
   "outputs": [
    {
     "name": "stdout",
     "output_type": "stream",
     "text": [
      "# of 1s in binary multiclass dataset: 98\n"
     ]
    }
   ],
   "source": [
    "print(\"# of 1s in binary multiclass dataset:\", (train_m == 1).sum())"
   ]
  },
  {
   "cell_type": "code",
   "execution_count": 223,
   "metadata": {},
   "outputs": [
    {
     "name": "stdout",
     "output_type": "stream",
     "text": [
      "# of 2s in binary multiclass dataset: 49\n"
     ]
    }
   ],
   "source": [
    "print(\"# of 2s in binary multiclass dataset:\", (train_m == 2).sum())"
   ]
  },
  {
   "cell_type": "code",
   "execution_count": 224,
   "metadata": {},
   "outputs": [
    {
     "name": "stdout",
     "output_type": "stream",
     "text": [
      "f scores of multiclass classifications: \n",
      "Class 0, f1:  0.6419753086419753\n",
      "Class 0, f2:  0.7407407407407407\n",
      "Class 1, f1:  0.13953488372093023\n",
      "Class 1, f2:  0.10791366906474821\n",
      "Class 2, f1:  nan\n",
      "Class 2, f2:  nan\n"
     ]
    }
   ],
   "source": [
    "print( \"f scores of multiclass classifications: \")\n",
    "print( \"Class 0, f1: \", get_f_scores( 1, precision0, recall0) )\n",
    "print( \"Class 0, f2: \", get_f_scores( 2, precision0, recall0) )\n",
    "\n",
    "print( \"Class 1, f1: \", get_f_scores( 1, precision1, recall1) )\n",
    "print( \"Class 1, f2: \", get_f_scores( 2, precision1, recall1) )\n",
    "\n",
    "print( \"Class 2, f1: \", get_f_scores( 1, precision2, recall2) )\n",
    "print( \"Class 2, f2: \", get_f_scores( 2, precision2, recall2) )"
   ]
  }
 ],
 "metadata": {
  "kernelspec": {
   "display_name": "Python 3",
   "language": "python",
   "name": "python3"
  },
  "language_info": {
   "codemirror_mode": {
    "name": "ipython",
    "version": 3
   },
   "file_extension": ".py",
   "mimetype": "text/x-python",
   "name": "python",
   "nbconvert_exporter": "python",
   "pygments_lexer": "ipython3",
   "version": "3.7.4"
  }
 },
 "nbformat": 4,
 "nbformat_minor": 4
}
